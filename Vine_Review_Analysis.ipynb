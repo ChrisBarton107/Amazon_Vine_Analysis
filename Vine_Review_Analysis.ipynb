{
  "nbformat": 4,
  "nbformat_minor": 0,
  "metadata": {
    "colab": {
      "name": "Vine_Review_Analysis.ipynb",
      "provenance": [],
      "collapsed_sections": [],
      "authorship_tag": "ABX9TyNPSmh63NEyIbpk1SSs1Oz2",
      "include_colab_link": true
    },
    "kernelspec": {
      "name": "python3",
      "display_name": "Python 3"
    }
  },
  "cells": [
    {
      "cell_type": "markdown",
      "metadata": {
        "id": "view-in-github",
        "colab_type": "text"
      },
      "source": [
        "<a href=\"https://colab.research.google.com/github/ChrisBarton107/Amazon_Vine_Analysis/blob/main/Vine_Review_Analysis.ipynb\" target=\"_parent\"><img src=\"https://colab.research.google.com/assets/colab-badge.svg\" alt=\"Open In Colab\"/></a>"
      ]
    },
    {
      "cell_type": "code",
      "metadata": {
        "colab": {
          "base_uri": "https://localhost:8080/"
        },
        "id": "URLgeaIy7T-G",
        "outputId": "d73cea1e-22c7-42d0-b5b6-eb4ab723404c"
      },
      "source": [
        "import os\n",
        "# Find the latest version of spark 2.0  from http://www-us.apache.org/dist/spark/ and enter as the spark version\n",
        "# For example:\n",
        "# spark_version = 'spark-3.0.0'\n",
        "spark_version = 'spark-3.0.1'\n",
        "os.environ['SPARK_VERSION']=spark_version\n",
        "\n",
        "# Install Spark and Java\n",
        "!apt-get update\n",
        "!apt-get install openjdk-11-jdk-headless -qq > /dev/null\n",
        "!wget -q http://www-us.apache.org/dist/spark/$SPARK_VERSION/$SPARK_VERSION-bin-hadoop2.7.tgz\n",
        "!tar xf $SPARK_VERSION-bin-hadoop2.7.tgz\n",
        "!pip install -q findspark\n",
        "\n",
        "# Set Environment Variables\n",
        "import os\n",
        "os.environ[\"JAVA_HOME\"] = \"/usr/lib/jvm/java-11-openjdk-amd64\"\n",
        "os.environ[\"SPARK_HOME\"] = f\"/content/{spark_version}-bin-hadoop2.7\"\n",
        "\n",
        "# Start a SparkSession\n",
        "import findspark\n",
        "findspark.init() "
      ],
      "execution_count": 1,
      "outputs": [
        {
          "output_type": "stream",
          "text": [
            "\r0% [Working]\r            \rIgn:1 https://developer.download.nvidia.com/compute/cuda/repos/ubuntu1804/x86_64  InRelease\n",
            "\r0% [Waiting for headers] [Waiting for headers] [Waiting for headers] [Waiting f\r                                                                               \rGet:2 https://cloud.r-project.org/bin/linux/ubuntu bionic-cran40/ InRelease [3,626 B]\n",
            "\r0% [Waiting for headers] [Waiting for headers] [2 InRelease 0 B/3,626 B 0%] [Wa\r0% [Waiting for headers] [Waiting for headers] [Waiting for headers] [Waiting f\r0% [2 InRelease gpgv 3,626 B] [Waiting for headers] [Waiting for headers] [Wait\r                                                                               \rHit:3 http://archive.ubuntu.com/ubuntu bionic InRelease\n",
            "\r0% [2 InRelease gpgv 3,626 B] [Waiting for headers] [Waiting for headers] [Wait\r                                                                               \rGet:4 http://security.ubuntu.com/ubuntu bionic-security InRelease [88.7 kB]\n",
            "\r                                                                               \rGet:5 http://ppa.launchpad.net/c2d4u.team/c2d4u4.0+/ubuntu bionic InRelease [15.9 kB]\n",
            "\r0% [2 InRelease gpgv 3,626 B] [Waiting for headers] [4 InRelease 14.2 kB/88.7 k\r                                                                               \rIgn:6 https://developer.download.nvidia.com/compute/machine-learning/repos/ubuntu1804/x86_64  InRelease\n",
            "\r0% [2 InRelease gpgv 3,626 B] [Waiting for headers] [4 InRelease 14.2 kB/88.7 k\r                                                                               \rGet:7 https://developer.download.nvidia.com/compute/cuda/repos/ubuntu1804/x86_64  Release [697 B]\n",
            "\r0% [2 InRelease gpgv 3,626 B] [Waiting for headers] [4 InRelease 14.2 kB/88.7 k\r0% [2 InRelease gpgv 3,626 B] [Waiting for headers] [4 InRelease 14.2 kB/88.7 k\r                                                                               \rHit:8 https://developer.download.nvidia.com/compute/machine-learning/repos/ubuntu1804/x86_64  Release\n",
            "Get:9 https://developer.download.nvidia.com/compute/cuda/repos/ubuntu1804/x86_64  Release.gpg [836 B]\n",
            "Get:10 http://archive.ubuntu.com/ubuntu bionic-updates InRelease [88.7 kB]\n",
            "Hit:11 http://ppa.launchpad.net/cran/libgit2/ubuntu bionic InRelease\n",
            "Get:12 https://cloud.r-project.org/bin/linux/ubuntu bionic-cran40/ Packages [44.4 kB]\n",
            "Get:13 http://archive.ubuntu.com/ubuntu bionic-backports InRelease [74.6 kB]\n",
            "Get:14 http://ppa.launchpad.net/graphics-drivers/ppa/ubuntu bionic InRelease [21.3 kB]\n",
            "Ign:16 https://developer.download.nvidia.com/compute/cuda/repos/ubuntu1804/x86_64  Packages\n",
            "Get:16 https://developer.download.nvidia.com/compute/cuda/repos/ubuntu1804/x86_64  Packages [549 kB]\n",
            "Get:17 http://ppa.launchpad.net/c2d4u.team/c2d4u4.0+/ubuntu bionic/main Sources [1,719 kB]\n",
            "Get:18 http://security.ubuntu.com/ubuntu bionic-security/main amd64 Packages [1,908 kB]\n",
            "Get:19 http://archive.ubuntu.com/ubuntu bionic-updates/restricted amd64 Packages [323 kB]\n",
            "Get:20 http://security.ubuntu.com/ubuntu bionic-security/universe amd64 Packages [1,383 kB]\n",
            "Get:21 http://security.ubuntu.com/ubuntu bionic-security/restricted amd64 Packages [291 kB]\n",
            "Get:22 http://ppa.launchpad.net/c2d4u.team/c2d4u4.0+/ubuntu bionic/main amd64 Packages [879 kB]\n",
            "Get:23 http://archive.ubuntu.com/ubuntu bionic-updates/multiverse amd64 Packages [42.6 kB]\n",
            "Get:24 http://archive.ubuntu.com/ubuntu bionic-updates/universe amd64 Packages [2,156 kB]\n",
            "Get:25 http://archive.ubuntu.com/ubuntu bionic-updates/main amd64 Packages [2,348 kB]\n",
            "Get:26 http://ppa.launchpad.net/graphics-drivers/ppa/ubuntu bionic/main amd64 Packages [49.2 kB]\n",
            "Fetched 12.0 MB in 3s (3,663 kB/s)\n",
            "Reading package lists... Done\n"
          ],
          "name": "stdout"
        }
      ]
    },
    {
      "cell_type": "code",
      "metadata": {
        "colab": {
          "base_uri": "https://localhost:8080/"
        },
        "id": "WJQ5ApjN7XYR",
        "outputId": "fd785d03-af1c-4e51-c0c1-c645b494da62"
      },
      "source": [
        "# Download the Postgres driver that will allow Spark to interact with Postgres.\n",
        "!wget https://jdbc.postgresql.org/download/postgresql-42.2.16.jar "
      ],
      "execution_count": 2,
      "outputs": [
        {
          "output_type": "stream",
          "text": [
            "--2021-01-31 00:58:16--  https://jdbc.postgresql.org/download/postgresql-42.2.16.jar\n",
            "Resolving jdbc.postgresql.org (jdbc.postgresql.org)... 72.32.157.228, 2001:4800:3e1:1::228\n",
            "Connecting to jdbc.postgresql.org (jdbc.postgresql.org)|72.32.157.228|:443... connected.\n",
            "HTTP request sent, awaiting response... 200 OK\n",
            "Length: 1002883 (979K) [application/java-archive]\n",
            "Saving to: ‘postgresql-42.2.16.jar’\n",
            "\n",
            "postgresql-42.2.16. 100%[===================>] 979.38K  --.-KB/s    in 0.1s    \n",
            "\n",
            "2021-01-31 00:58:16 (6.48 MB/s) - ‘postgresql-42.2.16.jar’ saved [1002883/1002883]\n",
            "\n"
          ],
          "name": "stdout"
        }
      ]
    },
    {
      "cell_type": "code",
      "metadata": {
        "id": "z5uC7hKa7c9s"
      },
      "source": [
        "from pyspark.sql import SparkSession\n",
        "spark = SparkSession.builder.appName(\"BigData-Challenge\").config(\"spark.driver.extraClassPath\",\"/content/postgresql-42.2.16.jar\").getOrCreate() "
      ],
      "execution_count": 4,
      "outputs": []
    },
    {
      "cell_type": "code",
      "metadata": {
        "colab": {
          "base_uri": "https://localhost:8080/"
        },
        "id": "JIqc7_O07iFy",
        "outputId": "a53d63b5-2350-4954-fc7d-8ad7cd10f742"
      },
      "source": [
        "from pyspark import SparkFiles\n",
        "url = \"https://s3.amazonaws.com/amazon-reviews-pds/tsv/amazon_reviews_us_Music_v1_00.tsv.gz\"\n",
        "spark.sparkContext.addFile(url)\n",
        "df = spark.read.option(\"encoding\", \"UTF-8\").csv(SparkFiles.get(\"\"), sep=\"\\t\", header=True, inferSchema=True)\n",
        "df.show()  "
      ],
      "execution_count": 5,
      "outputs": [
        {
          "output_type": "stream",
          "text": [
            "+-----------+-----------+--------------+----------+--------------+--------------------+----------------+-----------+-------------+-----------+----+-----------------+--------------------+--------------------+-----------+\n",
            "|marketplace|customer_id|     review_id|product_id|product_parent|       product_title|product_category|star_rating|helpful_votes|total_votes|vine|verified_purchase|     review_headline|         review_body|review_date|\n",
            "+-----------+-----------+--------------+----------+--------------+--------------------+----------------+-----------+-------------+-----------+----+-----------------+--------------------+--------------------+-----------+\n",
            "|         US|   10140119|R3LI5TRP3YIDQL|B00TXH4OLC|     384427924|Whatever's for Us...|           Music|          5|            0|          0|   N|                Y|          Five Stars|Love this CD alon...| 2015-08-31|\n",
            "|         US|   27664622|R3LGC3EKEG84PX|B00B6QXN6U|     831769051|Same Trailer Diff...|           Music|          5|            0|          0|   N|                Y|A new fave in our...|This is the album...| 2015-08-31|\n",
            "|         US|   45946560| R9PYL3OYH55QY|B001GCZXW6|      14067376| Soaring (Jazz Club)|           Music|          5|            0|          1|   N|                Y|          Five Stars|  Excellent / thanks| 2015-08-31|\n",
            "|         US|   15146326|R3PWBAWUS4NT0Q|B000003EK6|     566295619|     CARIBBEAN PARTY|           Music|          3|            0|          0|   N|                Y|         Three Stars|Nice variety of c...| 2015-08-31|\n",
            "|         US|   16794688|R15LYP3O51UU9E|B00N1F0BKK|     210426072|         Pain Killer|           Music|          5|            0|          0|   N|                Y|          Five Stars|Purchased as a gi...| 2015-08-31|\n",
            "|         US|   32203364|R1AD7L0CC3DSRI|B00V7KAO7Q|     360249504|A Thoughtiverse U...|           Music|          5|            0|          0|   N|                Y|Definitely worth ...|Really enjoyed th...| 2015-08-31|\n",
            "|         US|    1194276|R32FE8Y45QV434|B000094Q4P|      20972283|Comfort of Her Wings|           Music|          5|            0|          0|   N|                Y|          Five Stars|            Great CD| 2015-08-31|\n",
            "|         US|   45813052|R3NM4MZ4XWL43Q|B00JMK0P1I|     378049560|Sleep Soundly CD ...|           Music|          5|            1|          2|   N|                Y|          Five Stars|       Excellent CD!| 2015-08-31|\n",
            "|         US|   12795687|R3H4FXX6Q7I37D|B008OW1S3O|     141620702|     An Awesome Wave|           Music|          4|            0|          0|   N|                Y|          Four Stars|                nice| 2015-08-31|\n",
            "|         US|   36673840|R30L5PET7LFFDC|B00VI2L3L4|     920557135|          Blurryface|           Music|          5|            1|          1|   N|                Y|        Outstanding!|Outstanding music...| 2015-08-31|\n",
            "|         US|   49453576|  REFRE1LEKLAF|B0000041EV|     683128964|Mozart For Mother...|           Music|          4|            1|          1|   N|                Y|          Four Stars|      quite relaxing| 2015-08-31|\n",
            "|         US|    3285047|R3JTJ5EQN74E9H|B00005YW4H|     268461622|   Come Away with Me|           Music|          5|            0|          0|   N|                Y|          Five Stars|I love this CD.  ...| 2015-08-31|\n",
            "|         US|   24471201|R1W2F091LCOAW5|B00Q9KEZV0|     444090572| Tomorrow Is My Turn|           Music|          5|            0|          0|   N|                Y|FIve Stars and Th...|Rhiannon Giddens ...| 2015-08-31|\n",
            "|         US|   28049396| RYUMFQRRB1FNM|B00GFXRKHW|     482597726|       The Outsiders|           Music|          3|            0|          0|   N|                Y|         Three Stars|Wrecking Ball is ...| 2015-08-31|\n",
            "|         US|   41137196| RHCS6VVXWV3Q3|B004L3AQ10|     609457123|  The Lincoln Lawyer|           Music|          5|            0|          0|   N|                Y|          Five Stars|I was pleased wit...| 2015-08-31|\n",
            "|         US|   43305401|R35UL1YZ2142SL|B0000025PM|     125399885|Bach: Goldberg Va...|           Music|          5|            0|          0|   N|                Y|   The Creative Flow|The music that in...| 2015-08-31|\n",
            "|         US|   50808489|  RU1O6QD1LEBB|B00701QUN8|     144457491|Quiet Riot - Grea...|           Music|          5|            0|          0|   N|                Y|          Five Stars|   Excellent CD&#62;| 2015-08-31|\n",
            "|         US|   15536614|R36RXVL3XIZFH7|B003UJC2QI|     207971309|Love Or Money/Lov...|           Music|          5|            0|          0|   N|                N|    Great Pop Single|Love Or Money by ...| 2015-08-31|\n",
            "|         US|   32536909|R16O7SHYHLEYA1|B00LGA16J2|     760666287|Jonas Kaufmann - ...|           Music|          5|            0|          0|   N|                Y|          Five Stars|      Just splendid!| 2015-08-31|\n",
            "|         US|   51160312|R1Y5GX65Z2V9BG|B00ZGVMLLE|      37408836|        Clockworking|           Music|          5|            0|          0|   N|                N|Glorious Glorious...|One of my favorit...| 2015-08-31|\n",
            "+-----------+-----------+--------------+----------+--------------+--------------------+----------------+-----------+-------------+-----------+----+-----------------+--------------------+--------------------+-----------+\n",
            "only showing top 20 rows\n",
            "\n"
          ],
          "name": "stdout"
        }
      ]
    },
    {
      "cell_type": "code",
      "metadata": {
        "colab": {
          "base_uri": "https://localhost:8080/"
        },
        "id": "pIGFwFZf9pQD",
        "outputId": "d052c86c-c054-49fd-cb0c-90268d5c1706"
      },
      "source": [
        "votes_df = df.filter(df.total_votes >= 20)\n",
        "votes_df.show() "
      ],
      "execution_count": 6,
      "outputs": [
        {
          "output_type": "stream",
          "text": [
            "+-----------+-----------+--------------+----------+--------------+--------------------+----------------+-----------+-------------+-----------+----+-----------------+--------------------+--------------------+-----------+\n",
            "|marketplace|customer_id|     review_id|product_id|product_parent|       product_title|product_category|star_rating|helpful_votes|total_votes|vine|verified_purchase|     review_headline|         review_body|review_date|\n",
            "+-----------+-----------+--------------+----------+--------------+--------------------+----------------+-----------+-------------+-----------+----+-----------------+--------------------+--------------------+-----------+\n",
            "|         US|   23282003|R2SHXRL6SL1GC9|B010FP0WRU|     974013859|#392: The EP Coll...|           Music|          3|           25|         26|   N|                Y|Up it by a half-s...|A solid collectio...| 2015-08-31|\n",
            "|         US|   21715314|R2ZC033X86YOY8|B00ZYBH6M0|     408426475|  Live in Tokyo 1975|           Music|          5|           25|         26|   N|                N|Miles Live in Tok...|This is not to be...| 2015-08-31|\n",
            "|         US|   36195285|R2736RJGCOSL80|B00ZGJ85Y8|     547995808|War Room (Music f...|           Music|          5|           19|         20|   N|                Y|Christian Inspira...|This CD is one I ...| 2015-08-31|\n",
            "|         US|   44880816| RRY5DJ6J9BKAX|B00VRMEOKW|     660396327|          Start Here|           Music|          5|           19|         21|   N|                Y|A great debut album.|I pre-ordered thi...| 2015-08-31|\n",
            "|         US|   13262465|R2P4PJJ2ROTPBM|B00Z97XIZ8|     279373510|  Cheers To The Fall|           Music|          5|           46|         48|   N|                N|This album and he...|This album and he...| 2015-08-31|\n",
            "|         US|   36907003| RO8RAEGB66BKR|B00WH6GZDG|     832872767|I'll Remember:  A...|           Music|          4|           46|         46|   N|                N|\"...Blister On Th...|When &#34;On The ...| 2015-08-31|\n",
            "|         US|   48271867| RRFZ7QZTRJC59|B012TPRX6W|     874027336|Wholetones: The H...|           Music|          5|          292|        300|   N|                N|Cleared my cloud ...|So I usually don'...| 2015-08-31|\n",
            "|         US|   42360492| RFN4PNRUD1UW2|B00YPB27Z6|     654214320|           Bad Magic|           Music|          4|           21|         22|   N|                N|      A Real Triumph|The great thing a...| 2015-08-30|\n",
            "|         US|   38379823| RO7EBJEP7IHIX|B013HFUAHC|     759107433|Beethoven: The Ni...|           Music|          5|           26|         26|   N|                N|A Nineteenth Cent...|Pierre Monteux (b...| 2015-08-30|\n",
            "|         US|   18586962|R1CVS4MK9RTNNP|B00ZIAODGE|     990027034|   Depression Cherry|           Music|          2|           11|         22|   N|                N|   Regression Cherry|Five stars are gi...| 2015-08-30|\n",
            "|         US|   41000426| REIWYIGFMEKEV|B00XWVIZW4|     190147421|Shostakovich - Un...|           Music|          5|           26|         30|   N|                Y|it is the gold st...|Buy it.  It is a ...| 2015-08-30|\n",
            "|         US|   43400288|R2FV27WWRWROZU|B011DNDHXO|     498346766|Sonic Evolution /...|           Music|          4|           26|         27|   N|                N|A well-done tribu...|Mad Season, the S...| 2015-08-29|\n",
            "|         US|   51763277|R30I82JFOSSJMA|B010NOZWX2|     655317938| High Country [2 LP]|           Music|          3|           14|         20|   N|                Y|      Disappointing.|I suppose I shoul...| 2015-08-29|\n",
            "|         US|    3368426|R2FUEC06SD2TZ1|B00YH4Y7U4|     197713129|VII: Sturm Und Drang|           Music|          1|            2|         24|   N|                Y|... all washed-up...|Dont buy it LOG i...| 2015-08-29|\n",
            "|         US|   28626749|R16QHOYRY9QLQU|B00WYMBZCO|     861398623|Rachmaninov Varia...|           Music|          5|           36|         39|   N|                N|Beautiful Marriag...|This is Trifonov’...| 2015-08-29|\n",
            "|         US|   43790276|R1CQON45M11K9Q|B010GV5PVQ|     363487418|Freedom: Jimi Hen...|           Music|          5|          125|        131|   N|                Y|      Atlanta Pop 70|If you already ha...| 2015-08-29|\n",
            "|         US|    4529757|R1WYWVRXAGND36|B00YPB27Z6|     654214320|           Bad Magic|           Music|          5|           24|         25|   N|                N|WE ARE MOTORHEAD ...|There are really ...| 2015-08-29|\n",
            "|         US|   35478996| R6RZ581R948P7|B01017JVJ2|     427746996|            Midnight|           Music|          1|           29|         42|   N|                Y|Wall of Noise not...|If I could give t...| 2015-08-29|\n",
            "|         US|   13962821| RBRZ21U9GFORT|B010GV5PVQ|     363487418|Freedom: Jimi Hen...|           Music|          5|           28|         33|   N|                N|       Astonishing !|I don't need to s...| 2015-08-28|\n",
            "|         US|   25432539|R2Y6OCM9IEH9QO|B013GX8MDO|     177728853|             Compton|           Music|          1|           12|         21|   N|                N|The worst comebac...|Wow that was bare...| 2015-08-28|\n",
            "+-----------+-----------+--------------+----------+--------------+--------------------+----------------+-----------+-------------+-----------+----+-----------------+--------------------+--------------------+-----------+\n",
            "only showing top 20 rows\n",
            "\n"
          ],
          "name": "stdout"
        }
      ]
    },
    {
      "cell_type": "code",
      "metadata": {
        "colab": {
          "base_uri": "https://localhost:8080/"
        },
        "id": "i2qvz3Sh-mUs",
        "outputId": "4208be00-9360-4687-ab75-30684651b323"
      },
      "source": [
        "helpful_df = votes_df.filter((votes_df.helpful_votes / votes_df.total_votes) >= 0.5)\n",
        "helpful_df.show() "
      ],
      "execution_count": 11,
      "outputs": [
        {
          "output_type": "stream",
          "text": [
            "+-----------+-----------+--------------+----------+--------------+--------------------+----------------+-----------+-------------+-----------+----+-----------------+--------------------+--------------------+-----------+\n",
            "|marketplace|customer_id|     review_id|product_id|product_parent|       product_title|product_category|star_rating|helpful_votes|total_votes|vine|verified_purchase|     review_headline|         review_body|review_date|\n",
            "+-----------+-----------+--------------+----------+--------------+--------------------+----------------+-----------+-------------+-----------+----+-----------------+--------------------+--------------------+-----------+\n",
            "|         US|   23282003|R2SHXRL6SL1GC9|B010FP0WRU|     974013859|#392: The EP Coll...|           Music|          3|           25|         26|   N|                Y|Up it by a half-s...|A solid collectio...| 2015-08-31|\n",
            "|         US|   21715314|R2ZC033X86YOY8|B00ZYBH6M0|     408426475|  Live in Tokyo 1975|           Music|          5|           25|         26|   N|                N|Miles Live in Tok...|This is not to be...| 2015-08-31|\n",
            "|         US|   36195285|R2736RJGCOSL80|B00ZGJ85Y8|     547995808|War Room (Music f...|           Music|          5|           19|         20|   N|                Y|Christian Inspira...|This CD is one I ...| 2015-08-31|\n",
            "|         US|   44880816| RRY5DJ6J9BKAX|B00VRMEOKW|     660396327|          Start Here|           Music|          5|           19|         21|   N|                Y|A great debut album.|I pre-ordered thi...| 2015-08-31|\n",
            "|         US|   13262465|R2P4PJJ2ROTPBM|B00Z97XIZ8|     279373510|  Cheers To The Fall|           Music|          5|           46|         48|   N|                N|This album and he...|This album and he...| 2015-08-31|\n",
            "|         US|   36907003| RO8RAEGB66BKR|B00WH6GZDG|     832872767|I'll Remember:  A...|           Music|          4|           46|         46|   N|                N|\"...Blister On Th...|When &#34;On The ...| 2015-08-31|\n",
            "|         US|   48271867| RRFZ7QZTRJC59|B012TPRX6W|     874027336|Wholetones: The H...|           Music|          5|          292|        300|   N|                N|Cleared my cloud ...|So I usually don'...| 2015-08-31|\n",
            "|         US|   42360492| RFN4PNRUD1UW2|B00YPB27Z6|     654214320|           Bad Magic|           Music|          4|           21|         22|   N|                N|      A Real Triumph|The great thing a...| 2015-08-30|\n",
            "|         US|   38379823| RO7EBJEP7IHIX|B013HFUAHC|     759107433|Beethoven: The Ni...|           Music|          5|           26|         26|   N|                N|A Nineteenth Cent...|Pierre Monteux (b...| 2015-08-30|\n",
            "|         US|   18586962|R1CVS4MK9RTNNP|B00ZIAODGE|     990027034|   Depression Cherry|           Music|          2|           11|         22|   N|                N|   Regression Cherry|Five stars are gi...| 2015-08-30|\n",
            "|         US|   41000426| REIWYIGFMEKEV|B00XWVIZW4|     190147421|Shostakovich - Un...|           Music|          5|           26|         30|   N|                Y|it is the gold st...|Buy it.  It is a ...| 2015-08-30|\n",
            "|         US|   43400288|R2FV27WWRWROZU|B011DNDHXO|     498346766|Sonic Evolution /...|           Music|          4|           26|         27|   N|                N|A well-done tribu...|Mad Season, the S...| 2015-08-29|\n",
            "|         US|   51763277|R30I82JFOSSJMA|B010NOZWX2|     655317938| High Country [2 LP]|           Music|          3|           14|         20|   N|                Y|      Disappointing.|I suppose I shoul...| 2015-08-29|\n",
            "|         US|   28626749|R16QHOYRY9QLQU|B00WYMBZCO|     861398623|Rachmaninov Varia...|           Music|          5|           36|         39|   N|                N|Beautiful Marriag...|This is Trifonov’...| 2015-08-29|\n",
            "|         US|   43790276|R1CQON45M11K9Q|B010GV5PVQ|     363487418|Freedom: Jimi Hen...|           Music|          5|          125|        131|   N|                Y|      Atlanta Pop 70|If you already ha...| 2015-08-29|\n",
            "|         US|    4529757|R1WYWVRXAGND36|B00YPB27Z6|     654214320|           Bad Magic|           Music|          5|           24|         25|   N|                N|WE ARE MOTORHEAD ...|There are really ...| 2015-08-29|\n",
            "|         US|   35478996| R6RZ581R948P7|B01017JVJ2|     427746996|            Midnight|           Music|          1|           29|         42|   N|                Y|Wall of Noise not...|If I could give t...| 2015-08-29|\n",
            "|         US|   13962821| RBRZ21U9GFORT|B010GV5PVQ|     363487418|Freedom: Jimi Hen...|           Music|          5|           28|         33|   N|                N|       Astonishing !|I don't need to s...| 2015-08-28|\n",
            "|         US|   25432539|R2Y6OCM9IEH9QO|B013GX8MDO|     177728853|             Compton|           Music|          1|           12|         21|   N|                N|The worst comebac...|Wow that was bare...| 2015-08-28|\n",
            "|         US|    6110080|R26I5D95TEK226|B010GV5PVQ|     363487418|Freedom: Jimi Hen...|           Music|          5|           52|         56|   N|                N|VINYL/WHAT AN EXP...|This review is fo...| 2015-08-28|\n",
            "+-----------+-----------+--------------+----------+--------------+--------------------+----------------+-----------+-------------+-----------+----+-----------------+--------------------+--------------------+-----------+\n",
            "only showing top 20 rows\n",
            "\n"
          ],
          "name": "stdout"
        }
      ]
    },
    {
      "cell_type": "code",
      "metadata": {
        "colab": {
          "base_uri": "https://localhost:8080/"
        },
        "id": "HA7PVtPVBVPT",
        "outputId": "315875d6-1b34-425a-c18e-ae4ac0160812"
      },
      "source": [
        "paid_df = helpful_df.filter(helpful_df.vine == \"Y\")\n",
        "paid_df.show() "
      ],
      "execution_count": 12,
      "outputs": [
        {
          "output_type": "stream",
          "text": [
            "+-----------+-----------+--------------+----------+--------------+--------------------+----------------+-----------+-------------+-----------+----+-----------------+--------------------+--------------------+-----------+\n",
            "|marketplace|customer_id|     review_id|product_id|product_parent|       product_title|product_category|star_rating|helpful_votes|total_votes|vine|verified_purchase|     review_headline|         review_body|review_date|\n",
            "+-----------+-----------+--------------+----------+--------------+--------------------+----------------+-----------+-------------+-----------+----+-----------------+--------------------+--------------------+-----------+\n",
            "|         US|   45725380| R84VUCDBCI29U|B0020H46LK|     630657414|        Losing Sleep|           Music|          3|           18|         28|   Y|                N|Suitable for Mass...|Do you still get ...| 2009-07-31|\n",
            "|         US|   53081008| R4V3ICFDTIDIF|B001SMC91M|     609338227|Tell 'Em What You...|           Music|          4|           20|         21|   Y|                N|The Great Grandso...|Hehhhh! Something...| 2009-06-03|\n",
            "|         US|   49197984|R1JZ0JAPW83WFS|B001L2I27O|     995259710|          Troubadour|           Music|          4|           54|         58|   Y|                N|An old white lady...|I try to be hip, ...| 2009-05-21|\n",
            "|         US|   50779580|R1XH7EA97FAVP7|B0010VD7EO|     600781030|Oracular Spectacular|           Music|          3|           35|         44|   Y|                N|Neo-psychedelic F...|I've heard compla...| 2008-05-06|\n",
            "|         US|   41036875|R1482JAU1ZR7QH|B0010VD7EO|     600781030|Oracular Spectacular|           Music|          4|           15|         22|   Y|                N|Be open-minded an...|This album is lik...| 2008-05-04|\n",
            "|         US|   34487454|R1GGYGVTHP84DG|B00113R1I4|     179596053|         Mockingbird|           Music|          4|           25|         27|   Y|                N|Allison Moorer's ...|[[ASIN:B00113R1I4...| 2008-03-18|\n",
            "|         US|   26747773| RXGU9DSKZJSP0|B000WSRPOO|     576432510|  Spirit Of The Glen|           Music|          3|           21|         22|   Y|                N|A Wee Bit Overpro...|I grabbed this wh...| 2008-02-19|\n",
            "+-----------+-----------+--------------+----------+--------------+--------------------+----------------+-----------+-------------+-----------+----+-----------------+--------------------+--------------------+-----------+\n",
            "\n"
          ],
          "name": "stdout"
        }
      ]
    },
    {
      "cell_type": "code",
      "metadata": {
        "colab": {
          "base_uri": "https://localhost:8080/"
        },
        "id": "daHbR046Ck2E",
        "outputId": "a7fa1e70-a303-438f-e71a-be933aba4be6"
      },
      "source": [
        "unpaid_df = helpful_df.filter(helpful_df.vine == \"N\")\n",
        "unpaid_df.show() "
      ],
      "execution_count": 13,
      "outputs": [
        {
          "output_type": "stream",
          "text": [
            "+-----------+-----------+--------------+----------+--------------+--------------------+----------------+-----------+-------------+-----------+----+-----------------+--------------------+--------------------+-----------+\n",
            "|marketplace|customer_id|     review_id|product_id|product_parent|       product_title|product_category|star_rating|helpful_votes|total_votes|vine|verified_purchase|     review_headline|         review_body|review_date|\n",
            "+-----------+-----------+--------------+----------+--------------+--------------------+----------------+-----------+-------------+-----------+----+-----------------+--------------------+--------------------+-----------+\n",
            "|         US|   23282003|R2SHXRL6SL1GC9|B010FP0WRU|     974013859|#392: The EP Coll...|           Music|          3|           25|         26|   N|                Y|Up it by a half-s...|A solid collectio...| 2015-08-31|\n",
            "|         US|   21715314|R2ZC033X86YOY8|B00ZYBH6M0|     408426475|  Live in Tokyo 1975|           Music|          5|           25|         26|   N|                N|Miles Live in Tok...|This is not to be...| 2015-08-31|\n",
            "|         US|   36195285|R2736RJGCOSL80|B00ZGJ85Y8|     547995808|War Room (Music f...|           Music|          5|           19|         20|   N|                Y|Christian Inspira...|This CD is one I ...| 2015-08-31|\n",
            "|         US|   44880816| RRY5DJ6J9BKAX|B00VRMEOKW|     660396327|          Start Here|           Music|          5|           19|         21|   N|                Y|A great debut album.|I pre-ordered thi...| 2015-08-31|\n",
            "|         US|   13262465|R2P4PJJ2ROTPBM|B00Z97XIZ8|     279373510|  Cheers To The Fall|           Music|          5|           46|         48|   N|                N|This album and he...|This album and he...| 2015-08-31|\n",
            "|         US|   36907003| RO8RAEGB66BKR|B00WH6GZDG|     832872767|I'll Remember:  A...|           Music|          4|           46|         46|   N|                N|\"...Blister On Th...|When &#34;On The ...| 2015-08-31|\n",
            "|         US|   48271867| RRFZ7QZTRJC59|B012TPRX6W|     874027336|Wholetones: The H...|           Music|          5|          292|        300|   N|                N|Cleared my cloud ...|So I usually don'...| 2015-08-31|\n",
            "|         US|   42360492| RFN4PNRUD1UW2|B00YPB27Z6|     654214320|           Bad Magic|           Music|          4|           21|         22|   N|                N|      A Real Triumph|The great thing a...| 2015-08-30|\n",
            "|         US|   38379823| RO7EBJEP7IHIX|B013HFUAHC|     759107433|Beethoven: The Ni...|           Music|          5|           26|         26|   N|                N|A Nineteenth Cent...|Pierre Monteux (b...| 2015-08-30|\n",
            "|         US|   18586962|R1CVS4MK9RTNNP|B00ZIAODGE|     990027034|   Depression Cherry|           Music|          2|           11|         22|   N|                N|   Regression Cherry|Five stars are gi...| 2015-08-30|\n",
            "|         US|   41000426| REIWYIGFMEKEV|B00XWVIZW4|     190147421|Shostakovich - Un...|           Music|          5|           26|         30|   N|                Y|it is the gold st...|Buy it.  It is a ...| 2015-08-30|\n",
            "|         US|   43400288|R2FV27WWRWROZU|B011DNDHXO|     498346766|Sonic Evolution /...|           Music|          4|           26|         27|   N|                N|A well-done tribu...|Mad Season, the S...| 2015-08-29|\n",
            "|         US|   51763277|R30I82JFOSSJMA|B010NOZWX2|     655317938| High Country [2 LP]|           Music|          3|           14|         20|   N|                Y|      Disappointing.|I suppose I shoul...| 2015-08-29|\n",
            "|         US|   28626749|R16QHOYRY9QLQU|B00WYMBZCO|     861398623|Rachmaninov Varia...|           Music|          5|           36|         39|   N|                N|Beautiful Marriag...|This is Trifonov’...| 2015-08-29|\n",
            "|         US|   43790276|R1CQON45M11K9Q|B010GV5PVQ|     363487418|Freedom: Jimi Hen...|           Music|          5|          125|        131|   N|                Y|      Atlanta Pop 70|If you already ha...| 2015-08-29|\n",
            "|         US|    4529757|R1WYWVRXAGND36|B00YPB27Z6|     654214320|           Bad Magic|           Music|          5|           24|         25|   N|                N|WE ARE MOTORHEAD ...|There are really ...| 2015-08-29|\n",
            "|         US|   35478996| R6RZ581R948P7|B01017JVJ2|     427746996|            Midnight|           Music|          1|           29|         42|   N|                Y|Wall of Noise not...|If I could give t...| 2015-08-29|\n",
            "|         US|   13962821| RBRZ21U9GFORT|B010GV5PVQ|     363487418|Freedom: Jimi Hen...|           Music|          5|           28|         33|   N|                N|       Astonishing !|I don't need to s...| 2015-08-28|\n",
            "|         US|   25432539|R2Y6OCM9IEH9QO|B013GX8MDO|     177728853|             Compton|           Music|          1|           12|         21|   N|                N|The worst comebac...|Wow that was bare...| 2015-08-28|\n",
            "|         US|    6110080|R26I5D95TEK226|B010GV5PVQ|     363487418|Freedom: Jimi Hen...|           Music|          5|           52|         56|   N|                N|VINYL/WHAT AN EXP...|This review is fo...| 2015-08-28|\n",
            "+-----------+-----------+--------------+----------+--------------+--------------------+----------------+-----------+-------------+-----------+----+-----------------+--------------------+--------------------+-----------+\n",
            "only showing top 20 rows\n",
            "\n"
          ],
          "name": "stdout"
        }
      ]
    },
    {
      "cell_type": "code",
      "metadata": {
        "colab": {
          "base_uri": "https://localhost:8080/"
        },
        "id": "YYPRJg65C7vy",
        "outputId": "38c62ab1-8e34-464c-8cdc-3891989d61a1"
      },
      "source": [
        "total_paid = paid_df.count() \n",
        "total_paid  "
      ],
      "execution_count": 14,
      "outputs": [
        {
          "output_type": "execute_result",
          "data": {
            "text/plain": [
              "7"
            ]
          },
          "metadata": {
            "tags": []
          },
          "execution_count": 14
        }
      ]
    },
    {
      "cell_type": "code",
      "metadata": {
        "colab": {
          "base_uri": "https://localhost:8080/"
        },
        "id": "MRrus8UTDSow",
        "outputId": "ad0753c1-e03a-4242-904f-da26969ca411"
      },
      "source": [
        "five_star_paid = paid_df.filter(paid_df.star_rating == 5).count()\n",
        "five_star_paid "
      ],
      "execution_count": 15,
      "outputs": [
        {
          "output_type": "execute_result",
          "data": {
            "text/plain": [
              "0"
            ]
          },
          "metadata": {
            "tags": []
          },
          "execution_count": 15
        }
      ]
    },
    {
      "cell_type": "code",
      "metadata": {
        "colab": {
          "base_uri": "https://localhost:8080/"
        },
        "id": "m8hZrupmE6A0",
        "outputId": "52aca9f7-957a-415f-bb20-cd4e70b3e990"
      },
      "source": [
        "five_star_paid_percentage = (five_star_paid / total_paid)*100\n",
        "five_star_paid_percentage "
      ],
      "execution_count": 16,
      "outputs": [
        {
          "output_type": "execute_result",
          "data": {
            "text/plain": [
              "0.0"
            ]
          },
          "metadata": {
            "tags": []
          },
          "execution_count": 16
        }
      ]
    },
    {
      "cell_type": "code",
      "metadata": {
        "colab": {
          "base_uri": "https://localhost:8080/"
        },
        "id": "6UGotKBbFb1U",
        "outputId": "222835af-928c-4975-a2b8-c62f23b115ba"
      },
      "source": [
        "total_unpaid = unpaid_df.count() \n",
        "total_unpaid  "
      ],
      "execution_count": 17,
      "outputs": [
        {
          "output_type": "execute_result",
          "data": {
            "text/plain": [
              "105979"
            ]
          },
          "metadata": {
            "tags": []
          },
          "execution_count": 17
        }
      ]
    },
    {
      "cell_type": "code",
      "metadata": {
        "colab": {
          "base_uri": "https://localhost:8080/"
        },
        "id": "UDIzOWrIFx7F",
        "outputId": "79431eaf-ca1d-4920-cb6b-d662ff13e7e6"
      },
      "source": [
        "five_star_unpaid = unpaid_df.filter(unpaid_df.star_rating == 5).count()\n",
        "five_star_unpaid "
      ],
      "execution_count": 18,
      "outputs": [
        {
          "output_type": "execute_result",
          "data": {
            "text/plain": [
              "67580"
            ]
          },
          "metadata": {
            "tags": []
          },
          "execution_count": 18
        }
      ]
    },
    {
      "cell_type": "code",
      "metadata": {
        "colab": {
          "base_uri": "https://localhost:8080/"
        },
        "id": "QHqNpcWRGHCO",
        "outputId": "8150f5fb-7199-498b-b666-8497c6639c56"
      },
      "source": [
        "five_star_unpaid_percentage = (five_star_unpaid / total_unpaid)*100\n",
        "five_star_unpaid_percentage "
      ],
      "execution_count": 19,
      "outputs": [
        {
          "output_type": "execute_result",
          "data": {
            "text/plain": [
              "63.767350135404186"
            ]
          },
          "metadata": {
            "tags": []
          },
          "execution_count": 19
        }
      ]
    }
  ]
}